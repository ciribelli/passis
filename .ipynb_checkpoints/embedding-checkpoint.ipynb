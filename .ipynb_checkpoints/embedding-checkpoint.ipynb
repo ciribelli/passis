{
 "cells": [
  {
   "cell_type": "code",
   "execution_count": 7,
   "id": "5c4bcc2d-2f8d-4bdc-a53b-d2015f9b819d",
   "metadata": {},
   "outputs": [
    {
     "name": "stdout",
     "output_type": "stream",
     "text": [
      "[{\"content\": \"\\ud83d\\udcddperguntas para gartner: \\n- percentual de empresas investindo em fine tuning \\n- divis\\u00e3o de estrat\\u00e9gia entre foundation models, domain models and model hubs.\", \"date_created\": \"2023-09-23 17:37:47\", \"id\": 2}, {\"content\": \"\\ud83d\\udcdd esse \\u00e9 meu primeiro registro de mem\\u00f3ria\", \"date_created\": \"2023-09-23 15:22:08\", \"id\": 1}]\n",
      "{\"documentos\": [{\"data_de_upload\": \"2023-09-10 00:26:46\", \"descricao\": \"Identidade civil ou Registro Geral\\r\\nN\\u00famero do documento: MG10192099\", \"id\": 5, \"nome_do_documento\": \"RG\", \"versao\": 1}, {\"data_de_upload\": \"2023-09-10 00:31:07\", \"descricao\": \"Passaporte n\\u00famero: GD208356\\r\\nData de expedi\\u00e7\\u00e3o: 05/11/2021\\r\\nValidade: 04/11/2031\", \"id\": 6, \"nome_do_documento\": \"Passaporte\", \"versao\": 1}]}\n"
     ]
    }
   ],
   "source": [
    "import requests\n",
    "\n",
    "url = \"https://passis-bfd9b877f7d0.herokuapp.com/\"\n",
    "\n",
    "table_list = ['memorias', 'recuperar_lista_documentos']\n",
    "\n",
    "payload = {}\n",
    "headers = {}\n",
    "\n",
    "\n",
    "for l in table_list:\n",
    "    n_url = url+l\n",
    "    response = requests.request(\"GET\", n_url, headers=headers, data=payload)\n",
    "    print(response.text)\n",
    "\n"
   ]
  },
  {
   "cell_type": "code",
   "execution_count": null,
   "id": "3aad3758-d019-422e-a445-7fe46bdb1922",
   "metadata": {},
   "outputs": [],
   "source": []
  }
 ],
 "metadata": {
  "kernelspec": {
   "display_name": "Python 3 (ipykernel)",
   "language": "python",
   "name": "python3"
  },
  "language_info": {
   "codemirror_mode": {
    "name": "ipython",
    "version": 3
   },
   "file_extension": ".py",
   "mimetype": "text/x-python",
   "name": "python",
   "nbconvert_exporter": "python",
   "pygments_lexer": "ipython3",
   "version": "3.11.2"
  }
 },
 "nbformat": 4,
 "nbformat_minor": 5
}
